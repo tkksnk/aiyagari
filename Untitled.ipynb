{
 "cells": [
  {
   "cell_type": "markdown",
   "metadata": {},
   "source": []
  },
  {
   "cell_type": "markdown",
   "metadata": {},
   "source": [
    "# Bewley-Huggett-Aiyagari model\n",
    "\n",
    "- For given $(r_{t},w_{t})$, household $i$ chooses a policy to maximize\n",
    "$$\n",
    "    E_{0} \\sum_{t=0}^{\\infty} \\beta^{t} u(c_{t})\n",
    "$$\n",
    "subject to\n",
    "$$\n",
    "    c_{t} + a_{t+1} \\leq (1+r_{t}) a_{t} + w_{t} e_{t}\n",
    "$$\n",
    "\n",
    "$c_{t}$ is consumption, $a_{t}$ is asset holding, $e_{t}$ is employment status.\n"
   ]
  },
  {
   "cell_type": "code",
   "execution_count": null,
   "metadata": {},
   "outputs": [],
   "source": []
  }
 ],
 "metadata": {
  "kernelspec": {
   "display_name": "Matlab",
   "language": "matlab",
   "name": "matlab"
  },
  "language_info": {
   "codemirror_mode": "octave",
   "file_extension": ".m",
   "help_links": [
    {
     "text": "MetaKernel Magics",
     "url": "https://metakernel.readthedocs.io/en/latest/source/README.html"
    }
   ],
   "mimetype": "text/x-octave",
   "name": "matlab",
   "version": "0.16.9"
  }
 },
 "nbformat": 4,
 "nbformat_minor": 2
}
